{
 "cells": [
  {
   "cell_type": "markdown",
   "id": "d67f01ac",
   "metadata": {},
   "source": [
    "## Abstract Class example using python"
   ]
  },
  {
   "cell_type": "code",
   "execution_count": 1,
   "id": "2424942b",
   "metadata": {},
   "outputs": [
    {
     "name": "stdout",
     "output_type": "stream",
     "text": [
      "In BOI 6.5 rupees interset\n",
      "BOI give less offer on online shopping\n",
      "In ICICI 5 rupees interest\n",
      "ICICI give many offer on  inline shopping\n"
     ]
    }
   ],
   "source": [
    "from abc import ABC, abstractmethod\n",
    "\n",
    "class Bank(ABC): #Abstract class\n",
    "    def bank_msg(self):\n",
    "        print(\"Welcome to our bank\")\n",
    "        \n",
    "    @abstractmethod\n",
    "    def interest(self):\n",
    "        pass\n",
    "    \n",
    "    @abstractmethod\n",
    "    def offers(self):\n",
    "        pass\n",
    "        \n",
    "\n",
    "class BOI(Bank):\n",
    "    def interest(self):\n",
    "        print(\"In BOI 6.5 rupees interset\")\n",
    "    \n",
    "    def offers(self):\n",
    "        print('BOI give less offer on online shopping')\n",
    "        \n",
    "class ICICI(Bank):\n",
    "    def interest(self):\n",
    "        print(\"In ICICI 5 rupees interest\")\n",
    "    \n",
    "    def offers(self):\n",
    "        print('ICICI give many offer on  inline shopping')\n",
    "\n",
    "b = BOI()\n",
    "I = ICICI()\n",
    "\n",
    "b.interest()\n",
    "b.offers()\n",
    "I.interest()\n",
    "I.offers()\n"
   ]
  },
  {
   "cell_type": "markdown",
   "id": "aa5416aa",
   "metadata": {},
   "source": [
    "## Multiple Inheritance example in python\n"
   ]
  },
  {
   "cell_type": "code",
   "execution_count": 10,
   "id": "a226c0b4",
   "metadata": {},
   "outputs": [
    {
     "name": "stdout",
     "output_type": "stream",
     "text": [
      "101\n"
     ]
    }
   ],
   "source": [
    "class Student:  \n",
    "    def __init__(self, studentId ,studentAge, currentClass):  \n",
    "        self.student = studentId  \n",
    "        self.studentAge = studentAge\n",
    "        self.currentClass = currentClass\n",
    "        \n",
    "    def showid(self):  \n",
    "        print(self.student)\n",
    "    \n",
    "    def showSAge(self):\n",
    "        print(self.studentAge)\n",
    "    \n",
    "    def showCurrentclass(self):\n",
    "        print(self.currentClass)\n",
    "        \n",
    "class Parents:  \n",
    "    def __init__(self, parentsfirstName,parentslastname,parentsAge):  \n",
    "        self.fname = parentsfirstName  \n",
    "        self.lname = parentslastname\n",
    "        self.age = parentsAge  \n",
    "  \n",
    "    def showfName(self):  \n",
    "        print(self.fname)  \n",
    "        \n",
    "    def showlName(self):  \n",
    "        print(self.lname)  \n",
    "  \n",
    "    def showPAge(self):  \n",
    "        print(self.age)  \n",
    "\n",
    "\n",
    "class school(Student , Parents): \n",
    "    def __init__(self,Sid,Sage,Sclass,fname,lname,Page):\n",
    "        Student.__init__(self, Sid,Sage,Sclass)  \n",
    "        Parents.__init__(self, fname,lname,Page)  \n",
    "        \n",
    "school1 = school(101,18,'12th','Rakesh','jain',40)  \n",
    "school1.showid()"
   ]
  },
  {
   "cell_type": "markdown",
   "id": "9667a8f1",
   "metadata": {},
   "source": [
    "## Decorator in python example"
   ]
  },
  {
   "cell_type": "code",
   "execution_count": 1,
   "id": "ceb2bf39",
   "metadata": {},
   "outputs": [
    {
     "name": "stdout",
     "output_type": "stream",
     "text": [
      "2.0\n"
     ]
    }
   ],
   "source": [
    "def div(a,b):\n",
    "    print(a/b)        \n",
    "\n",
    "def smart_div(func):\n",
    "    def inner(a,b):\n",
    "        if a<b:\n",
    "            a,b = b,a\n",
    "        return func(a,b)\n",
    "    \n",
    "    return inner\n",
    "\"\"\"In this function we want that in division always \n",
    "bigger number is divided by small number so use first \n",
    "(div) dunction in which we simply define  varible and \n",
    "doing division and in (smart_div) we change the functionality of(div) function\"\"\"\n",
    "    \n",
    "div = smart_div(div)\n",
    "\n",
    "div(2,4)\n",
    "        \n",
    "    "
   ]
  },
  {
   "cell_type": "code",
   "execution_count": null,
   "id": "9509103a",
   "metadata": {},
   "outputs": [],
   "source": []
  }
 ],
 "metadata": {
  "kernelspec": {
   "display_name": "Python 3 (ipykernel)",
   "language": "python",
   "name": "python3"
  },
  "language_info": {
   "codemirror_mode": {
    "name": "ipython",
    "version": 3
   },
   "file_extension": ".py",
   "mimetype": "text/x-python",
   "name": "python",
   "nbconvert_exporter": "python",
   "pygments_lexer": "ipython3",
   "version": "3.9.7"
  }
 },
 "nbformat": 4,
 "nbformat_minor": 5
}
