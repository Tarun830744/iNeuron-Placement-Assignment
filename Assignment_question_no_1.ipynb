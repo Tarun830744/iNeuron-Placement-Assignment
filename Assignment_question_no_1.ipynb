{
 "cells": [
  {
   "cell_type": "code",
   "execution_count": 1,
   "id": "3088b22a",
   "metadata": {},
   "outputs": [],
   "source": [
    "import os\n",
    "def create_file():\n",
    "    try:\n",
    "        if \"example.txt\" in os.listdir():\n",
    "            f = open(\"example.txt\", \"r+\")\n",
    "            f.read()\n",
    "        else:\n",
    "            f = open(\"example.txt\" ,\"w+\")\n",
    "            f.write('This is a placement assignment')\n",
    "            f.close()\n",
    "    except:\n",
    "        print(\"something went wrong to create file\")\n",
    "create_file()\n",
    "\n",
    "def replace():\n",
    "    try:\n",
    "        text_1 = input(\"Enter text that you want to replaced :\")\n",
    "        text_2 = input(\"Enter text that you want to replace with :\")\n",
    "        f = open(\"example.txt\",\"r+\")\n",
    "        data = f.read()\n",
    "        data = data.replace(text_1,text_2)\n",
    "        f.seek(0)\n",
    "        f.write(data)\n",
    "        f.close()\n",
    "    except:\n",
    "        print(\"something went wrong with replacing\")\n",
    "replace()"
   ]
  },
  {
   "cell_type": "code",
   "execution_count": 8,
   "id": "243cfa6f",
   "metadata": {},
   "outputs": [],
   "source": []
  },
  {
   "cell_type": "code",
   "execution_count": null,
   "id": "57ef6410",
   "metadata": {},
   "outputs": [],
   "source": []
  }
 ],
 "metadata": {
  "interpreter": {
   "hash": "090812b389d443a3958dc187e3c4d2d284040bce011f639e4779dc5bd7903967"
  },
  "kernelspec": {
   "display_name": "Python 3.9.7 64-bit",
   "language": "python",
   "name": "python3"
  },
  "language_info": {
   "codemirror_mode": {
    "name": "ipython",
    "version": 3
   },
   "file_extension": ".py",
   "mimetype": "text/x-python",
   "name": "python",
   "nbconvert_exporter": "python",
   "pygments_lexer": "ipython3",
   "version": "3.9.7"
  }
 },
 "nbformat": 4,
 "nbformat_minor": 5
}
